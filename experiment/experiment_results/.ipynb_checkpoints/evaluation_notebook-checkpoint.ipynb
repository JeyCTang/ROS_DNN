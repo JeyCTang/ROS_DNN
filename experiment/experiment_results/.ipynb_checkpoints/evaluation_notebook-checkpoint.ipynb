{
 "cells": [
  {
   "cell_type": "markdown",
   "id": "9ab934d1",
   "metadata": {},
   "source": [
    "## 1. Result Description\n",
    "\n",
    "For the same object, the robot will eventually generate 8 csv files from different angles and different distances, because we have 6 objects to be detected so we did $6 \\times 8 = 48 $ experiments, the total number of files is 48 as well.\n",
    "\n",
    "The filename of the result file identifies the detected object and the coordinates of the position where the robot detected it. In the file, it contains the results the model detects the target during the rotation. The detection result includes the category of the object to be detected, and the probability of predicting the category, also known as the confidence."
   ]
  },
  {
   "cell_type": "markdown",
   "id": "02f012fc",
   "metadata": {},
   "source": [
    "## 2. Detection Rate\n",
    "\n",
    "The detection rate is used to measure the proportion of objects in the environment detected by the pre-trained model in all experiments. During the detection process, the model may not be able to identify the object according to the image captured by the camera. At this time, in the result published by the detection node, the category is none and the confidence is 0. We regard this result as failed. In a single experiment, if the proportion of failed results reache more than 50%, we determine that the robot cannot detect the object at this position. By analyzing the data, we can get the following table:"
   ]
  },
  {
   "cell_type": "code",
   "execution_count": 79,
   "id": "2975b1a7",
   "metadata": {},
   "outputs": [],
   "source": [
    "import os\n",
    "import pandas as pd\n",
    "import numpy as np"
   ]
  },
  {
   "cell_type": "code",
   "execution_count": 80,
   "id": "cf1526e5",
   "metadata": {},
   "outputs": [],
   "source": [
    "# Define the objects name and positions as the rows and index of table\n",
    "objects_name = ['car', 'bus', 'person', 'chair', 'suitcase', 'monitor']\n",
    "positions = ['m6_0', 'm4_0', '4_0', '6_0', '0_6', '0_4', '0_m4', '0_m6']"
   ]
  },
  {
   "cell_type": "code",
   "execution_count": 81,
   "id": "7fa0a826",
   "metadata": {},
   "outputs": [],
   "source": [
    "# Define a function to get all the result files\n",
    "def get_file_names(path):\n",
    "    # param: path - there are two categories results, one is detected by ssd, the other one is Yolov3. \n",
    "    # so we have to indicate which kind of results we are going to process\n",
    "    files_paths = [os.path.join(root, name) for root, _, files in os.walk(path) for name in files if name.endswith('csv')]\n",
    "    return files_paths"
   ]
  },
  {
   "cell_type": "code",
   "execution_count": 82,
   "id": "1adb5f72",
   "metadata": {},
   "outputs": [],
   "source": [
    "# Get the files_paths of ssd\n",
    "ssd_result_names = get_file_names('./experiment_results_ssd')\n",
    "\n",
    "# Get the files_paths of yolov3\n",
    "yolo_result_names = get_file_names('./experiment_results_yolov3')"
   ]
  },
  {
   "cell_type": "code",
   "execution_count": null,
   "id": "713158a9",
   "metadata": {},
   "outputs": [],
   "source": [
    "df = pd.DataFrame()"
   ]
  },
  {
   "cell_type": "markdown",
   "id": "9135933d",
   "metadata": {},
   "source": [
    "## 1. Data Processing\n",
    "\n",
    "When the robot is at the initial position, the direction is 45 degrees offset to the object. \n",
    "The object is not in the capture range of the camera. E.g. In figure 1, we can see there is no object displayed in the GUI. When the control node is launched, during the process of robot rotation, the object enters the range of the camera, as it is shown in figure 2. Thus, between the period that the initial direction and the direction the object can enter into the camera range,  The rotation of the robot starts at the same time as the start of the save node to receive data, so the detection result is invalid from the start time to the time when the object enters the range that the camera can capture. Similarly, in the process of completing the 90-degree rotation, the detection result of the time when the object is about to leave the camera range and the time when the robot completes the 90-degree rotation is also invalid. In the project code, we define that the return value of the detection result of this class is None, and the score is 0. Therefore, we need to remove this part of invalid data. In addition, when detecting some objects, the pre-trained model may not be able to detect the object in the whole process, so all the return values of the detection results are invalid. Therefore, in order not to eliminate the results sent because the model itself did not detect the object , we only filter the detection results with valid data greater than 50% of the total data. Figure 3 shows which part of invalid data we elimited."
   ]
  },
  {
   "cell_type": "code",
   "execution_count": 1,
   "id": "57c0540f",
   "metadata": {},
   "outputs": [],
   "source": [
    "import os\n",
    "import pandas as pd\n",
    "import numpy as np"
   ]
  },
  {
   "cell_type": "code",
   "execution_count": 17,
   "id": "5be9bcf9",
   "metadata": {
    "scrolled": true
   },
   "outputs": [
    {
     "name": "stdout",
     "output_type": "stream",
     "text": [
      "There are 48 SSD results\n",
      "There are 48 Yolov3 results\n"
     ]
    }
   ],
   "source": [
    "# Get all the result files name\n",
    "def get_file_names(path):\n",
    "    # param: path - there are two categories results, one is detected by ssd, the other one is Yolov3. \n",
    "    # so we have to indicate which kind of results we are going to process\n",
    "    file_names = [os.path.join(root, name) for root, _, files in os.walk(path) for name in files if name.endswith('csv')]\n",
    "    return file_names\n",
    "\n",
    "ssd_result_names = get_file_names('./experiment_results_ssd')\n",
    "yolo_result_names = get_file_names('./experiment_results_yolov3')\n",
    "\n",
    "print(f\"There are {len(ssd_result_names)} SSD results\")\n",
    "print(f\"There are {len(yolo_result_names)} Yolov3 results\")"
   ]
  },
  {
   "cell_type": "code",
   "execution_count": 29,
   "id": "f387362d",
   "metadata": {},
   "outputs": [
    {
     "data": {
      "text/plain": [
       "['./experiment_results_yolov3/monitor_1/results_performance_monitor_6_0.csv',\n",
       " './experiment_results_yolov3/monitor_1/results_performance_monitor_4_0.csv',\n",
       " './experiment_results_yolov3/monitor_1/results_performance_monitor_0_4.csv',\n",
       " './experiment_results_yolov3/monitor_1/results_performance_monitor_0_m6.csv',\n",
       " './experiment_results_yolov3/monitor_1/results_performance_monitor_0_6.csv',\n",
       " './experiment_results_yolov3/monitor_1/results_performance_monitor_m4_0.csv',\n",
       " './experiment_results_yolov3/monitor_1/results_performance_monitor_0_m4.csv',\n",
       " './experiment_results_yolov3/monitor_1/results_performance_monitor_m6_0.csv',\n",
       " './experiment_results_yolov3/suitcase1/results_performance_suitcase1_0_m6.csv',\n",
       " './experiment_results_yolov3/suitcase1/results_performance_suitcase1_4_0.csv',\n",
       " './experiment_results_yolov3/suitcase1/results_performance_suitcase1_0_6.csv',\n",
       " './experiment_results_yolov3/suitcase1/results_performance_suitcase1_m6_0.csv',\n",
       " './experiment_results_yolov3/suitcase1/results_performance_suitcase1_0_m4.csv',\n",
       " './experiment_results_yolov3/suitcase1/results_performance_suitcase1_0_4.csv',\n",
       " './experiment_results_yolov3/suitcase1/results_performance_suitcase1_6_0.csv',\n",
       " './experiment_results_yolov3/suitcase1/results_performance_suitcase1_m4_0.csv',\n",
       " './experiment_results_yolov3/chair/results_performance_chair_m6_0.csv',\n",
       " './experiment_results_yolov3/chair/results_performance_chair_0_m4.csv',\n",
       " './experiment_results_yolov3/chair/results_performance_chair_0_m6.csv',\n",
       " './experiment_results_yolov3/chair/results_performance_chair_4_0.csv',\n",
       " './experiment_results_yolov3/chair/results_performance_chair_0_4.csv',\n",
       " './experiment_results_yolov3/chair/results_performance_chair_6_0.csv',\n",
       " './experiment_results_yolov3/chair/results_performance_chair_m4_0.csv',\n",
       " './experiment_results_yolov3/chair/results_performance_chair_0_6.csv',\n",
       " './experiment_results_yolov3/car_beetle/results_performance_car_0_m4.csv',\n",
       " './experiment_results_yolov3/car_beetle/results_performance_car_0_4.csv',\n",
       " './experiment_results_yolov3/car_beetle/results_performance_car_0_m6.csv',\n",
       " './experiment_results_yolov3/car_beetle/results_performance_car_m4_0.csv',\n",
       " './experiment_results_yolov3/car_beetle/results_performance_car_4_0.csv',\n",
       " './experiment_results_yolov3/car_beetle/results_performance_car_6_0.csv',\n",
       " './experiment_results_yolov3/car_beetle/results_performance_car_0_6.csv',\n",
       " './experiment_results_yolov3/car_beetle/results_performance_car_m6_0.csv',\n",
       " './experiment_results_yolov3/bus/results_performance_bus_0_m6.csv',\n",
       " './experiment_results_yolov3/bus/results_performance_bus_0_m4.csv',\n",
       " './experiment_results_yolov3/bus/results_performance_bus_0_6.csv',\n",
       " './experiment_results_yolov3/bus/results_performance_bus_6_0.csv',\n",
       " './experiment_results_yolov3/bus/results_performance_bus_4_0.csv',\n",
       " './experiment_results_yolov3/bus/results_performance_bus_m4_0.csv',\n",
       " './experiment_results_yolov3/bus/results_performance_bus_m6_0.csv',\n",
       " './experiment_results_yolov3/bus/results_performance_bus_0_4.csv',\n",
       " './experiment_results_yolov3/walking_person/results_performance_person_m4_0.csv',\n",
       " './experiment_results_yolov3/walking_person/results_performance_person_0_m6.csv',\n",
       " './experiment_results_yolov3/walking_person/results_performance_person_6_0.csv',\n",
       " './experiment_results_yolov3/walking_person/results_performance_person_m6_0.csv',\n",
       " './experiment_results_yolov3/walking_person/results_performance_person_4_0.csv',\n",
       " './experiment_results_yolov3/walking_person/results_performance_person_0_4.csv',\n",
       " './experiment_results_yolov3/walking_person/results_performance_person_0_m4.csv',\n",
       " './experiment_results_yolov3/walking_person/results_performance_person_0_6.csv']"
      ]
     },
     "execution_count": 29,
     "metadata": {},
     "output_type": "execute_result"
    }
   ],
   "source": [
    "yolo_result_names"
   ]
  },
  {
   "cell_type": "code",
   "execution_count": 78,
   "id": "53f1ef2e",
   "metadata": {},
   "outputs": [
    {
     "name": "stdout",
     "output_type": "stream",
     "text": [
      "Unnamed: 0  category  score\n",
      "0           none      0.00     1\n",
      "115         car       0.91     1\n",
      "107         car       0.95     1\n",
      "108         car       0.97     1\n",
      "109         car       0.98     1\n",
      "                              ..\n",
      "57          car       0.94     1\n",
      "58          car       0.96     1\n",
      "59          car       0.98     1\n",
      "60          car       0.97     1\n",
      "167         none      0.00     1\n",
      "Length: 168, dtype: int64\n",
      "delete!\n",
      "delete!\n",
      "delete!\n",
      "delete!\n",
      "delete!\n",
      "delete!\n",
      "delete!\n",
      "delete!\n",
      "delete!\n",
      "delete!\n",
      "delete!\n",
      "delete!\n",
      "delete!\n",
      "delete!\n",
      "delete!\n",
      "delete!\n",
      "delete!\n",
      "delete!\n",
      "delete!\n",
      "delete!\n",
      "delete!\n",
      "delete!\n",
      "delete!\n",
      "delete!\n",
      "delete!\n",
      "delete!\n",
      "delete!\n",
      "delete!\n",
      "delete!\n",
      "delete!\n",
      "delete!\n",
      "delete!\n",
      "delete!\n",
      "delete!\n",
      "delete!\n",
      "delete!\n"
     ]
    },
    {
     "data": {
      "text/plain": [
       "Unnamed: 0  category  score\n",
       "10          car       0.52     1\n",
       "114         car       0.93     1\n",
       "128         car       0.99     1\n",
       "127         car       0.97     1\n",
       "126         car       0.98     1\n",
       "                              ..\n",
       "48          car       0.99     1\n",
       "47          car       0.99     1\n",
       "46          car       0.99     1\n",
       "45          car       0.97     1\n",
       "162         car       0.78     1\n",
       "Length: 132, dtype: int64"
      ]
     },
     "execution_count": 78,
     "metadata": {},
     "output_type": "execute_result"
    }
   ],
   "source": [
    "df = pd.read_csv(yolo_result_names[24])\n",
    "counts = df['category'].value_counts()\n",
    "# type(counts)\n",
    "counts['none'] / df['category'].count() > 0.5\n",
    "\n",
    "df1 = df.copy(deep=True)\n",
    "print(df1.value_counts())\n",
    "for index, row in df1.iterrows():\n",
    "    if row['category'] == 'none':\n",
    "        print('delete!')\n",
    "        df1 = df1.drop([index])\n",
    "        \n",
    "df1.value_counts()"
   ]
  },
  {
   "cell_type": "code",
   "execution_count": 65,
   "id": "6592ad47",
   "metadata": {},
   "outputs": [
    {
     "data": {
      "text/plain": [
       "168"
      ]
     },
     "execution_count": 65,
     "metadata": {},
     "output_type": "execute_result"
    }
   ],
   "source": [
    "counts1 = df['category'].count()\n",
    "counts1"
   ]
  },
  {
   "cell_type": "markdown",
   "id": "6a4a2161",
   "metadata": {},
   "source": [
    "## 3. Model speed"
   ]
  },
  {
   "cell_type": "markdown",
   "id": "d12b353d",
   "metadata": {},
   "source": [
    "## 4. Accuracy"
   ]
  },
  {
   "cell_type": "markdown",
   "id": "5e3e0cb8",
   "metadata": {},
   "source": [
    "## 5. Prediction performance"
   ]
  }
 ],
 "metadata": {
  "kernelspec": {
   "display_name": "Python 3 (ipykernel)",
   "language": "python",
   "name": "python3"
  },
  "language_info": {
   "codemirror_mode": {
    "name": "ipython",
    "version": 3
   },
   "file_extension": ".py",
   "mimetype": "text/x-python",
   "name": "python",
   "nbconvert_exporter": "python",
   "pygments_lexer": "ipython3",
   "version": "3.8.10"
  }
 },
 "nbformat": 4,
 "nbformat_minor": 5
}
