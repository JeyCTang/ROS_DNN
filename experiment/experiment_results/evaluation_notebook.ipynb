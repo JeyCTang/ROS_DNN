{
 "cells": [
  {
   "cell_type": "markdown",
   "source": [
    "## 1. Result Description\n",
    "\n",
    "For the same object, the robot will eventually generate 8 csv files from different angles and different distances, because we have 6 objects to be detected so we did $6 \\times 8 = 48 $ experiments, the total number of files is 48 as well.\n",
    "\n",
    "The filename of the result file identifies the detected object and the coordinates of the position where the robot detected it. In the file, it contains the results the model detects the target during the rotation. The detection result includes the category of the object to be detected, and the probability of predicting the category, also known as the confidence."
   ],
   "metadata": {
    "collapsed": false
   }
  },
  {
   "cell_type": "code",
   "execution_count": 1,
   "outputs": [],
   "source": [
    "import pandas as pd"
   ],
   "metadata": {
    "collapsed": false,
    "pycharm": {
     "name": "#%%\n"
    }
   }
  },
  {
   "cell_type": "code",
   "execution_count": 2,
   "outputs": [],
   "source": [
    "df = pd.read_csv('experiment_results_ssd/person/results_performance_person_0_m4.csv', index_col='Unnamed: 0')"
   ],
   "metadata": {
    "collapsed": false,
    "pycharm": {
     "name": "#%%\n"
    }
   }
  },
  {
   "cell_type": "code",
   "execution_count": 3,
   "outputs": [
    {
     "data": {
      "text/plain": "    category  score\n0       none    0.0\n1       none    0.0\n2       none    0.0\n3       none    0.0\n4       none    0.0\n..       ...    ...\n428     none    0.0\n429     none    0.0\n430     none    0.0\n431     none    0.0\n432     none    0.0\n\n[433 rows x 2 columns]",
      "text/html": "<div>\n<style scoped>\n    .dataframe tbody tr th:only-of-type {\n        vertical-align: middle;\n    }\n\n    .dataframe tbody tr th {\n        vertical-align: top;\n    }\n\n    .dataframe thead th {\n        text-align: right;\n    }\n</style>\n<table border=\"1\" class=\"dataframe\">\n  <thead>\n    <tr style=\"text-align: right;\">\n      <th></th>\n      <th>category</th>\n      <th>score</th>\n    </tr>\n  </thead>\n  <tbody>\n    <tr>\n      <th>0</th>\n      <td>none</td>\n      <td>0.0</td>\n    </tr>\n    <tr>\n      <th>1</th>\n      <td>none</td>\n      <td>0.0</td>\n    </tr>\n    <tr>\n      <th>2</th>\n      <td>none</td>\n      <td>0.0</td>\n    </tr>\n    <tr>\n      <th>3</th>\n      <td>none</td>\n      <td>0.0</td>\n    </tr>\n    <tr>\n      <th>4</th>\n      <td>none</td>\n      <td>0.0</td>\n    </tr>\n    <tr>\n      <th>...</th>\n      <td>...</td>\n      <td>...</td>\n    </tr>\n    <tr>\n      <th>428</th>\n      <td>none</td>\n      <td>0.0</td>\n    </tr>\n    <tr>\n      <th>429</th>\n      <td>none</td>\n      <td>0.0</td>\n    </tr>\n    <tr>\n      <th>430</th>\n      <td>none</td>\n      <td>0.0</td>\n    </tr>\n    <tr>\n      <th>431</th>\n      <td>none</td>\n      <td>0.0</td>\n    </tr>\n    <tr>\n      <th>432</th>\n      <td>none</td>\n      <td>0.0</td>\n    </tr>\n  </tbody>\n</table>\n<p>433 rows × 2 columns</p>\n</div>"
     },
     "execution_count": 3,
     "metadata": {},
     "output_type": "execute_result"
    }
   ],
   "source": [
    "df"
   ],
   "metadata": {
    "collapsed": false,
    "pycharm": {
     "name": "#%%\n"
    }
   }
  },
  {
   "cell_type": "markdown",
   "id": "6a4a2161",
   "metadata": {},
   "source": [
    "## 2. Model speed\n",
    "\n",
    "In this experiment, as all the nodes are same. The only major element that affects the detection speed is model. As we know, for an object, the robit rotates same angle at each position so the time of rotation is same. Thus, we will explore the model speed by comparing how many data streams each pre-trained model produced in a fixed time."
   ]
  },
  {
   "cell_type": "code",
   "execution_count": 14,
   "outputs": [],
   "source": [
    "# Define a function to count the number of results\n",
    "def result_counter(results, model_type):\n",
    "\n",
    "    objects_name = ['car', 'bus', 'person', 'chair', 'suitcase', 'monitor']\n",
    "    positions = ['m6_0', 'm4_0', '4_0', '6_0', '0_6', '0_4', '0_m4', '0_m6']\n",
    "    new_df = pd.DataFrame(columns=objects_name, index=positions)\n",
    "\n",
    "    for result in results:\n",
    "        obj, position = get_obj_pos(result)\n",
    "\n",
    "        df = pd.read_csv(result, index_col='Unnamed: 0')\n",
    "        num_row = df.shape[0]\n",
    "        new_df.at[position, obj] = num_row\n",
    "\n",
    "    new_df.to_csv(os.path.join('./process_result', model_type + '_result_count.csv'))"
   ],
   "metadata": {
    "collapsed": false,
    "pycharm": {
     "name": "#%%\n"
    }
   }
  },
  {
   "cell_type": "code",
   "execution_count": 15,
   "outputs": [],
   "source": [
    "ssd_result_names = get_file_names('./experiment_results_ssd')\n",
    "yolo_result_names = get_file_names('./experiment_results_yolov3')\n",
    "\n",
    "# Execute the function for ssd and yolov3\n",
    "result_counter(ssd_result_names, 'ssd')\n",
    "result_counter(yolo_result_names, 'yolov3')"
   ],
   "metadata": {
    "collapsed": false,
    "pycharm": {
     "name": "#%%\n"
    }
   }
  },
  {
   "cell_type": "code",
   "execution_count": 16,
   "outputs": [
    {
     "data": {
      "text/plain": "      car  bus  person  chair  suitcase  monitor\nm6_0  415  439     430    442       424      426\nm4_0  380  434     417    406       415      417\n4_0   374  460     424    425       418      426\n6_0   368  402     452    446       422      457\n0_6   385  435     412    421       400      433\n0_4   366  441     423    440       404      426\n0_m4  372  404     433    443       443      442\n0_m6  374  420     413    409       449      431",
      "text/html": "<div>\n<style scoped>\n    .dataframe tbody tr th:only-of-type {\n        vertical-align: middle;\n    }\n\n    .dataframe tbody tr th {\n        vertical-align: top;\n    }\n\n    .dataframe thead th {\n        text-align: right;\n    }\n</style>\n<table border=\"1\" class=\"dataframe\">\n  <thead>\n    <tr style=\"text-align: right;\">\n      <th></th>\n      <th>car</th>\n      <th>bus</th>\n      <th>person</th>\n      <th>chair</th>\n      <th>suitcase</th>\n      <th>monitor</th>\n    </tr>\n  </thead>\n  <tbody>\n    <tr>\n      <th>m6_0</th>\n      <td>415</td>\n      <td>439</td>\n      <td>430</td>\n      <td>442</td>\n      <td>424</td>\n      <td>426</td>\n    </tr>\n    <tr>\n      <th>m4_0</th>\n      <td>380</td>\n      <td>434</td>\n      <td>417</td>\n      <td>406</td>\n      <td>415</td>\n      <td>417</td>\n    </tr>\n    <tr>\n      <th>4_0</th>\n      <td>374</td>\n      <td>460</td>\n      <td>424</td>\n      <td>425</td>\n      <td>418</td>\n      <td>426</td>\n    </tr>\n    <tr>\n      <th>6_0</th>\n      <td>368</td>\n      <td>402</td>\n      <td>452</td>\n      <td>446</td>\n      <td>422</td>\n      <td>457</td>\n    </tr>\n    <tr>\n      <th>0_6</th>\n      <td>385</td>\n      <td>435</td>\n      <td>412</td>\n      <td>421</td>\n      <td>400</td>\n      <td>433</td>\n    </tr>\n    <tr>\n      <th>0_4</th>\n      <td>366</td>\n      <td>441</td>\n      <td>423</td>\n      <td>440</td>\n      <td>404</td>\n      <td>426</td>\n    </tr>\n    <tr>\n      <th>0_m4</th>\n      <td>372</td>\n      <td>404</td>\n      <td>433</td>\n      <td>443</td>\n      <td>443</td>\n      <td>442</td>\n    </tr>\n    <tr>\n      <th>0_m6</th>\n      <td>374</td>\n      <td>420</td>\n      <td>413</td>\n      <td>409</td>\n      <td>449</td>\n      <td>431</td>\n    </tr>\n  </tbody>\n</table>\n</div>"
     },
     "execution_count": 16,
     "metadata": {},
     "output_type": "execute_result"
    }
   ],
   "source": [
    "df_ssd = pd.read_csv('./process_result/ssd_result_count.csv', index_col='Unnamed: 0')\n",
    "df_ssd"
   ],
   "metadata": {
    "collapsed": false,
    "pycharm": {
     "name": "#%%\n"
    }
   }
  },
  {
   "cell_type": "code",
   "execution_count": 17,
   "outputs": [
    {
     "data": {
      "text/plain": "      car  bus  person  chair  suitcase  monitor\nm6_0  188  174     187    179       190      186\nm4_0  173  182     183    178       192      179\n4_0   173  212     174    181       183      177\n6_0   170  169     182    182       178      166\n0_6   167  177     178    202       172      184\n0_4   165  167     183    188       182      179\n0_m4  168  161     187    183       183      174\n0_m6  166  180     181    181       178      177",
      "text/html": "<div>\n<style scoped>\n    .dataframe tbody tr th:only-of-type {\n        vertical-align: middle;\n    }\n\n    .dataframe tbody tr th {\n        vertical-align: top;\n    }\n\n    .dataframe thead th {\n        text-align: right;\n    }\n</style>\n<table border=\"1\" class=\"dataframe\">\n  <thead>\n    <tr style=\"text-align: right;\">\n      <th></th>\n      <th>car</th>\n      <th>bus</th>\n      <th>person</th>\n      <th>chair</th>\n      <th>suitcase</th>\n      <th>monitor</th>\n    </tr>\n  </thead>\n  <tbody>\n    <tr>\n      <th>m6_0</th>\n      <td>188</td>\n      <td>174</td>\n      <td>187</td>\n      <td>179</td>\n      <td>190</td>\n      <td>186</td>\n    </tr>\n    <tr>\n      <th>m4_0</th>\n      <td>173</td>\n      <td>182</td>\n      <td>183</td>\n      <td>178</td>\n      <td>192</td>\n      <td>179</td>\n    </tr>\n    <tr>\n      <th>4_0</th>\n      <td>173</td>\n      <td>212</td>\n      <td>174</td>\n      <td>181</td>\n      <td>183</td>\n      <td>177</td>\n    </tr>\n    <tr>\n      <th>6_0</th>\n      <td>170</td>\n      <td>169</td>\n      <td>182</td>\n      <td>182</td>\n      <td>178</td>\n      <td>166</td>\n    </tr>\n    <tr>\n      <th>0_6</th>\n      <td>167</td>\n      <td>177</td>\n      <td>178</td>\n      <td>202</td>\n      <td>172</td>\n      <td>184</td>\n    </tr>\n    <tr>\n      <th>0_4</th>\n      <td>165</td>\n      <td>167</td>\n      <td>183</td>\n      <td>188</td>\n      <td>182</td>\n      <td>179</td>\n    </tr>\n    <tr>\n      <th>0_m4</th>\n      <td>168</td>\n      <td>161</td>\n      <td>187</td>\n      <td>183</td>\n      <td>183</td>\n      <td>174</td>\n    </tr>\n    <tr>\n      <th>0_m6</th>\n      <td>166</td>\n      <td>180</td>\n      <td>181</td>\n      <td>181</td>\n      <td>178</td>\n      <td>177</td>\n    </tr>\n  </tbody>\n</table>\n</div>"
     },
     "execution_count": 17,
     "metadata": {},
     "output_type": "execute_result"
    }
   ],
   "source": [
    "df_yolov3 = pd.read_csv('./process_result/yolov3_result_count.csv', index_col='Unnamed: 0')\n",
    "df_yolov3"
   ],
   "metadata": {
    "collapsed": false,
    "pycharm": {
     "name": "#%%\n"
    }
   }
  },
  {
   "cell_type": "code",
   "execution_count": 18,
   "outputs": [
    {
     "name": "stdout",
     "output_type": "stream",
     "text": [
      "The Average number of detection results in SSD is: 419.\n",
      "The Average number of detection results in Yolov3 is: 179.\n"
     ]
    }
   ],
   "source": [
    "avg_counts_ssd = df_ssd.sum().sum() / 48\n",
    "avg_counts_yolov3 = df_yolov3.sum().sum() / 48\n",
    "print(f\"The Average number of detection results in SSD is: {int(avg_counts_ssd)}.\\nThe Average number of detection results in Yolov3 is: {int(avg_counts_yolov3)}.\")"
   ],
   "metadata": {
    "collapsed": false,
    "pycharm": {
     "name": "#%%\n"
    }
   }
  },
  {
   "cell_type": "markdown",
   "source": [
    "We can observe from the above tables that the average result number in an experiment produced by the SSD model is 419. The average result number in an experiment produced by the Yolov3 model is 179. In a fixed period, the SSD model is $\\frac{179}{429} \\times 100\\% = 42.7\\%$ faster than Yolov3 model."
   ],
   "metadata": {
    "collapsed": false,
    "pycharm": {
     "name": "#%% md\n"
    }
   }
  },
  {
   "cell_type": "markdown",
   "source": [
    "## 3. Data Processing\n",
    "\n",
    "When the robot is at the initial position, the direction is 45 degrees offset to the object.\n",
    "The object is not in the capture range of the camera. E.g. In figure 1, we can see there is no object displayed in the GUI. When the control node is launched, during the process of robot rotation, the object enters the range of the camera, as it is shown in figure 2. Thus, between the period that the initial direction and the direction the object can enter into the camera range,  The rotation of the robot starts at the same time as the start of the save node to receive data, so the detection result is invalid from the start time to the time when the object enters the range that the camera can capture. Similarly, in the process of completing the 90-degree rotation, the detection result of the time when the object is about to leave the camera range and the time when the robot completes the 90-degree rotation is also invalid. In the project code, we define that the return value of the detection result of this class is None, and the score is 0. Therefore, we need to remove this part of invalid data. In addition, when detecting some objects, the pre-trained model may not be able to detect the object in the whole process, so all the return values of the detection results are invalid. Therefore, in order not to eliminate the results sent because the model itself did not detect the object , we only filter the detection results with valid data greater than 50% of the total data. Figure 3 shows which part of invalid data we elimited."
   ],
   "metadata": {
    "collapsed": false
   }
  },
  {
   "cell_type": "code",
   "execution_count": 7,
   "outputs": [],
   "source": [
    "import os\n",
    "import pandas as pd\n",
    "from tqdm import tqdm\n",
    "import numpy as np"
   ],
   "metadata": {
    "collapsed": false,
    "pycharm": {
     "name": "#%%\n"
    }
   }
  },
  {
   "cell_type": "code",
   "execution_count": 8,
   "outputs": [
    {
     "data": {
      "text/plain": "1651868636.52"
     },
     "execution_count": 8,
     "metadata": {},
     "output_type": "execute_result"
    }
   ],
   "source": [
    "import time\n",
    "\n",
    "round(time.time(), 2)"
   ],
   "metadata": {
    "collapsed": false,
    "pycharm": {
     "name": "#%%\n"
    }
   }
  },
  {
   "cell_type": "code",
   "execution_count": 9,
   "outputs": [
    {
     "name": "stdout",
     "output_type": "stream",
     "text": [
      "There are 48 SSD results\n",
      "There are 48 Yolov3 results\n"
     ]
    }
   ],
   "source": [
    "# Get all the result files name\n",
    "def get_file_names(path):\n",
    "    # param: path - there are two categories results, one is detected by ssd, the other one is Yolov3.\n",
    "    # so we have to indicate which kind of results we are going to process\n",
    "    file_names = [os.path.join(root, name) for root, _, files in os.walk(path) for name in files if name.endswith('csv')]\n",
    "    return file_names\n",
    "\n",
    "ssd_result_names = get_file_names('./experiment_results_ssd')\n",
    "yolo_result_names = get_file_names('./experiment_results_yolov3')\n",
    "\n",
    "print(f\"There are {len(ssd_result_names)} SSD results\")\n",
    "print(f\"There are {len(yolo_result_names)} Yolov3 results\")"
   ],
   "metadata": {
    "collapsed": false,
    "pycharm": {
     "name": "#%%\n"
    }
   }
  },
  {
   "cell_type": "code",
   "execution_count": 10,
   "outputs": [
    {
     "data": {
      "text/plain": "['./experiment_results_ssd/chair/results_performance_chair_m6_0.csv',\n './experiment_results_ssd/chair/results_performance_chair_0_m4.csv',\n './experiment_results_ssd/chair/results_performance_chair_0_m6.csv',\n './experiment_results_ssd/chair/results_performance_chair_4_0.csv',\n './experiment_results_ssd/chair/results_performance_chair_0_4.csv',\n './experiment_results_ssd/chair/results_performance_chair_6_0.csv',\n './experiment_results_ssd/chair/results_performance_chair_m4_0.csv',\n './experiment_results_ssd/chair/results_performance_chair_0_6.csv',\n './experiment_results_ssd/car/results_performance_car_0_m4.csv',\n './experiment_results_ssd/car/results_performance_car_0_4.csv',\n './experiment_results_ssd/car/results_performance_car_0_m6.csv',\n './experiment_results_ssd/car/results_performance_car_m4_0.csv',\n './experiment_results_ssd/car/results_performance_car_4_0.csv',\n './experiment_results_ssd/car/results_performance_car_6_0.csv',\n './experiment_results_ssd/car/results_performance_car_0_6.csv',\n './experiment_results_ssd/car/results_performance_car_m6_0.csv',\n './experiment_results_ssd/bus/results_performance_bus_0_m6.csv',\n './experiment_results_ssd/bus/results_performance_bus_0_m4.csv',\n './experiment_results_ssd/bus/results_performance_bus_0_6.csv',\n './experiment_results_ssd/bus/results_performance_bus_6_0.csv',\n './experiment_results_ssd/bus/results_performance_bus_4_0.csv',\n './experiment_results_ssd/bus/results_performance_bus_m4_0.csv',\n './experiment_results_ssd/bus/results_performance_bus_m6_0.csv',\n './experiment_results_ssd/bus/results_performance_bus_0_4.csv',\n './experiment_results_ssd/person/results_performance_person_m4_0.csv',\n './experiment_results_ssd/person/results_performance_person_0_m6.csv',\n './experiment_results_ssd/person/results_performance_person_6_0.csv',\n './experiment_results_ssd/person/results_performance_person_m6_0.csv',\n './experiment_results_ssd/person/results_performance_person_4_0.csv',\n './experiment_results_ssd/person/results_performance_person_0_4.csv',\n './experiment_results_ssd/person/results_performance_person_0_m4.csv',\n './experiment_results_ssd/person/results_performance_person_0_6.csv',\n './experiment_results_ssd/suitcase/results_performance_suitcase_m6_0.csv',\n './experiment_results_ssd/suitcase/results_performance_suitcase_0_4.csv',\n './experiment_results_ssd/suitcase/results_performance_suitcase_0_m4.csv',\n './experiment_results_ssd/suitcase/results_performance_suitcase_6_0.csv',\n './experiment_results_ssd/suitcase/results_performance_suitcase_m4_0.csv',\n './experiment_results_ssd/suitcase/results_performance_suitcase_4_0.csv',\n './experiment_results_ssd/suitcase/results_performance_suitcase_0_6.csv',\n './experiment_results_ssd/suitcase/results_performance_suitcase_0_m6.csv',\n './experiment_results_ssd/monitor/results_performance_monitor_6_0.csv',\n './experiment_results_ssd/monitor/results_performance_monitor_4_0.csv',\n './experiment_results_ssd/monitor/results_performance_monitor_0_4.csv',\n './experiment_results_ssd/monitor/results_performance_monitor_0_m6.csv',\n './experiment_results_ssd/monitor/results_performance_monitor_0_6.csv',\n './experiment_results_ssd/monitor/results_performance_monitor_m4_0.csv',\n './experiment_results_ssd/monitor/results_performance_monitor_0_m4.csv',\n './experiment_results_ssd/monitor/results_performance_monitor_m6_0.csv']"
     },
     "execution_count": 10,
     "metadata": {},
     "output_type": "execute_result"
    }
   ],
   "source": [
    "ssd_result_names"
   ],
   "metadata": {
    "collapsed": false,
    "pycharm": {
     "name": "#%%\n"
    }
   }
  },
  {
   "cell_type": "code",
   "execution_count": 19,
   "outputs": [],
   "source": [
    "# Define a function to get the object name, position according to the result file path\n",
    "def get_obj_pos(result_path):\n",
    "    split_file_name = result_path.split('/')[-1].split('_')\n",
    "    obj = split_file_name[2]\n",
    "    position = split_file_name[3] + \"_\" + split_file_name[-1].replace('.csv', '')\n",
    "    return obj, position\n",
    "\n",
    "# Define a function to eliminate the none value in the file, and save them as a new file.\n",
    "def eliminate_none(results_list, model_type):\n",
    "    # eliminate every result file\n",
    "    for result in results_list:\n",
    "        object_name, position = get_obj_pos(result)\n",
    "        df = pd.read_csv(result, index_col=\"Unnamed: 0\")    # open the result file\n",
    "        # df = df.drop(columns=['Unnamed: 0'])\n",
    "        for index, row in df.iterrows():\n",
    "            if row['category'] == 'none':\n",
    "                df = df.drop([index])\n",
    "        df.to_csv(os.path.join('./cleaned_data', model_type, object_name + \"_\" + position + \".csv\"), encoding='utf-8')"
   ],
   "metadata": {
    "collapsed": false,
    "pycharm": {
     "name": "#%%\n"
    }
   }
  },
  {
   "cell_type": "code",
   "execution_count": 13,
   "outputs": [],
   "source": [
    "# eliminate the none for ssd results\n",
    "eliminate_none(ssd_result_names, \"ssd\")\n",
    "# eliminate the none of yolov3 results\n",
    "eliminate_none(yolo_result_names, 'yolov3')"
   ],
   "metadata": {
    "collapsed": false,
    "pycharm": {
     "name": "#%%\n"
    }
   }
  },
  {
   "cell_type": "markdown",
   "source": [
    "## 4. Sensitivity\n",
    "\n",
    "The detection rate is used to measure the proportion of objects in the environment detected by the pre-trained model in all experiments. During the detection process, the model may not be able to identify the object according to the image captured by the camera. At this time, in the result published by the detection node, the category is none and the confidence is 0. We regard this result as failed. In a single experiment, if the proportion of failed results reache more than 50%, we determine that the robot cannot detect the object at this position. By analyzing the data, we can get the following table:"
   ],
   "metadata": {
    "collapsed": false
   }
  },
  {
   "cell_type": "code",
   "execution_count": 20,
   "outputs": [],
   "source": [
    "import pandas as pd"
   ],
   "metadata": {
    "collapsed": false,
    "pycharm": {
     "name": "#%%\n"
    }
   }
  },
  {
   "cell_type": "code",
   "execution_count": 21,
   "outputs": [],
   "source": [
    "# Get the cleaned files_paths of ssd\n",
    "clean_ssd_results = get_file_names('./cleaned_data/ssd')\n",
    "\n",
    "# Get the cleaned files_paths of yolov3\n",
    "clean_yolov3_results = get_file_names('./cleaned_data/yolov3')"
   ],
   "metadata": {
    "collapsed": false,
    "pycharm": {
     "name": "#%%\n"
    }
   }
  },
  {
   "cell_type": "code",
   "execution_count": 22,
   "outputs": [],
   "source": [
    "# Define a function that can return a new dataframe with the columns are the objects, the indexes are the positions\n",
    "def create_new_df():\n",
    "    objects_name = ['car', 'bus', 'person', 'chair', 'suitcase', 'monitor']\n",
    "    positions = ['m6_0', 'm4_0', '4_0', '6_0', '0_6', '0_4', '0_m4', '0_m6']\n",
    "    new_df = pd.DataFrame(columns=objects_name, index=positions)\n",
    "\n",
    "    return new_df"
   ],
   "metadata": {
    "collapsed": false,
    "pycharm": {
     "name": "#%%\n"
    }
   }
  },
  {
   "cell_type": "code",
   "execution_count": 23,
   "outputs": [],
   "source": [
    "# Define a function to evaluate whether the detection is success or failed\n",
    "def detect_evl(result_paths, model_type):\n",
    "    # Define the objects name and positions as the rows and index of table\n",
    "    objects_name = ['car', 'bus', 'person', 'chair', 'suitcase', 'monitor']\n",
    "    positions = ['m6_0', 'm4_0', '4_0', '6_0', '0_6', '0_4', '0_m4', '0_m6']\n",
    "    empty_df = pd.DataFrame(index=positions, columns=objects_name)\n",
    "    for result in result_paths:\n",
    "        df = pd.read_csv(result)\n",
    "        split_result = result.split('/')[-1].split('_')\n",
    "        obj = split_result[0]\n",
    "        pos = split_result[1] + '_' + split_result[-1].replace('.csv', '')\n",
    "\n",
    "        # If the number of rows is less than 10, we count it as a failed detection, so we fill the corresponding cell with value False\n",
    "        # If the number of rows is greater than 10, we count it as a success detection, so we fill the corresponding cell with value True\n",
    "        if df.shape[0] < 10:\n",
    "            empty_df.at[pos, obj] = False\n",
    "        else:\n",
    "            empty_df.at[pos, obj] = True\n",
    "    empty_df.to_csv(os.path.join('./process_result', model_type + '_detection_rate.csv'), encoding='utf-8')"
   ],
   "metadata": {
    "collapsed": false,
    "pycharm": {
     "name": "#%%\n"
    }
   }
  },
  {
   "cell_type": "code",
   "execution_count": 24,
   "outputs": [],
   "source": [
    "# detect for ssd\n",
    "detect_evl(clean_ssd_results, \"ssd\")\n",
    "\n",
    "# detect for yolov3\n",
    "detect_evl(clean_yolov3_results, \"yolov3\")"
   ],
   "metadata": {
    "collapsed": false,
    "pycharm": {
     "name": "#%%\n"
    }
   }
  },
  {
   "cell_type": "code",
   "execution_count": 25,
   "outputs": [
    {
     "data": {
      "text/plain": "       car   bus  person  chair  suitcase  monitor\nm6_0  True  True    True  False      True    False\nm4_0  True  True    True   True      True    False\n4_0   True  True    True   True      True    False\n6_0   True  True    True  False      True    False\n0_6   True  True    True   True      True     True\n0_4   True  True    True   True      True     True\n0_m4  True  True    True   True      True     True\n0_m6  True  True    True   True      True     True",
      "text/html": "<div>\n<style scoped>\n    .dataframe tbody tr th:only-of-type {\n        vertical-align: middle;\n    }\n\n    .dataframe tbody tr th {\n        vertical-align: top;\n    }\n\n    .dataframe thead th {\n        text-align: right;\n    }\n</style>\n<table border=\"1\" class=\"dataframe\">\n  <thead>\n    <tr style=\"text-align: right;\">\n      <th></th>\n      <th>car</th>\n      <th>bus</th>\n      <th>person</th>\n      <th>chair</th>\n      <th>suitcase</th>\n      <th>monitor</th>\n    </tr>\n  </thead>\n  <tbody>\n    <tr>\n      <th>m6_0</th>\n      <td>True</td>\n      <td>True</td>\n      <td>True</td>\n      <td>False</td>\n      <td>True</td>\n      <td>False</td>\n    </tr>\n    <tr>\n      <th>m4_0</th>\n      <td>True</td>\n      <td>True</td>\n      <td>True</td>\n      <td>True</td>\n      <td>True</td>\n      <td>False</td>\n    </tr>\n    <tr>\n      <th>4_0</th>\n      <td>True</td>\n      <td>True</td>\n      <td>True</td>\n      <td>True</td>\n      <td>True</td>\n      <td>False</td>\n    </tr>\n    <tr>\n      <th>6_0</th>\n      <td>True</td>\n      <td>True</td>\n      <td>True</td>\n      <td>False</td>\n      <td>True</td>\n      <td>False</td>\n    </tr>\n    <tr>\n      <th>0_6</th>\n      <td>True</td>\n      <td>True</td>\n      <td>True</td>\n      <td>True</td>\n      <td>True</td>\n      <td>True</td>\n    </tr>\n    <tr>\n      <th>0_4</th>\n      <td>True</td>\n      <td>True</td>\n      <td>True</td>\n      <td>True</td>\n      <td>True</td>\n      <td>True</td>\n    </tr>\n    <tr>\n      <th>0_m4</th>\n      <td>True</td>\n      <td>True</td>\n      <td>True</td>\n      <td>True</td>\n      <td>True</td>\n      <td>True</td>\n    </tr>\n    <tr>\n      <th>0_m6</th>\n      <td>True</td>\n      <td>True</td>\n      <td>True</td>\n      <td>True</td>\n      <td>True</td>\n      <td>True</td>\n    </tr>\n  </tbody>\n</table>\n</div>"
     },
     "execution_count": 25,
     "metadata": {},
     "output_type": "execute_result"
    }
   ],
   "source": [
    "# Open the detection status of ssd\n",
    "df_ssd = pd.read_csv('./process_result/ssd_detection_rate.csv', index_col='Unnamed: 0')\n",
    "df_ssd"
   ],
   "metadata": {
    "collapsed": false,
    "pycharm": {
     "name": "#%%\n"
    }
   }
  },
  {
   "cell_type": "code",
   "execution_count": 39,
   "outputs": [
    {
     "data": {
      "text/plain": "       car    bus  person  chair  suitcase  monitor\nm6_0  True   True    True  False      True     True\nm4_0  True   True    True   True     False    False\n4_0   True   True    True   True     False    False\n6_0   True   True    True   True     False     True\n0_6   True  False    True   True     False    False\n0_4   True   True    True   True     False    False\n0_m4  True   True    True   True      True    False\n0_m6  True   True    True   True      True    False",
      "text/html": "<div>\n<style scoped>\n    .dataframe tbody tr th:only-of-type {\n        vertical-align: middle;\n    }\n\n    .dataframe tbody tr th {\n        vertical-align: top;\n    }\n\n    .dataframe thead th {\n        text-align: right;\n    }\n</style>\n<table border=\"1\" class=\"dataframe\">\n  <thead>\n    <tr style=\"text-align: right;\">\n      <th></th>\n      <th>car</th>\n      <th>bus</th>\n      <th>person</th>\n      <th>chair</th>\n      <th>suitcase</th>\n      <th>monitor</th>\n    </tr>\n  </thead>\n  <tbody>\n    <tr>\n      <th>m6_0</th>\n      <td>True</td>\n      <td>True</td>\n      <td>True</td>\n      <td>False</td>\n      <td>True</td>\n      <td>True</td>\n    </tr>\n    <tr>\n      <th>m4_0</th>\n      <td>True</td>\n      <td>True</td>\n      <td>True</td>\n      <td>True</td>\n      <td>False</td>\n      <td>False</td>\n    </tr>\n    <tr>\n      <th>4_0</th>\n      <td>True</td>\n      <td>True</td>\n      <td>True</td>\n      <td>True</td>\n      <td>False</td>\n      <td>False</td>\n    </tr>\n    <tr>\n      <th>6_0</th>\n      <td>True</td>\n      <td>True</td>\n      <td>True</td>\n      <td>True</td>\n      <td>False</td>\n      <td>True</td>\n    </tr>\n    <tr>\n      <th>0_6</th>\n      <td>True</td>\n      <td>False</td>\n      <td>True</td>\n      <td>True</td>\n      <td>False</td>\n      <td>False</td>\n    </tr>\n    <tr>\n      <th>0_4</th>\n      <td>True</td>\n      <td>True</td>\n      <td>True</td>\n      <td>True</td>\n      <td>False</td>\n      <td>False</td>\n    </tr>\n    <tr>\n      <th>0_m4</th>\n      <td>True</td>\n      <td>True</td>\n      <td>True</td>\n      <td>True</td>\n      <td>True</td>\n      <td>False</td>\n    </tr>\n    <tr>\n      <th>0_m6</th>\n      <td>True</td>\n      <td>True</td>\n      <td>True</td>\n      <td>True</td>\n      <td>True</td>\n      <td>False</td>\n    </tr>\n  </tbody>\n</table>\n</div>"
     },
     "execution_count": 39,
     "metadata": {},
     "output_type": "execute_result"
    }
   ],
   "source": [
    "# Open the detection status of yolov3\n",
    "df_yolov3 = pd.read_csv('./process_result/yolov3_detection_rate.csv', index_col='Unnamed: 0')\n",
    "df_yolov3"
   ],
   "metadata": {
    "collapsed": false,
    "pycharm": {
     "name": "#%%\n"
    }
   }
  },
  {
   "cell_type": "markdown",
   "source": [
    "We can observe from above tables that the success detection of SSD model is 42 out of 48 detections, the success detection of Yolov3 model is 13 out of 48 detections.\n",
    "The success rate of SSD and Yolov3 in the detection is:\n",
    "\n",
    "$DetectRate_{ssd} = \\frac{42}{48} \\times 100\\% = 87.5\\% $ \\\n",
    "$DetectRate_{yolov3} = \\frac{35}{48} \\times 100\\% = 73.0\\% $\n"
   ],
   "metadata": {
    "collapsed": false
   }
  },
  {
   "cell_type": "markdown",
   "id": "d12b353d",
   "metadata": {
    "pycharm": {
     "name": "#%% md\n"
    }
   },
   "source": [
    "## 5. Accuracy\n",
    "\n",
    "In section 3, we evaluated when the camera capture the image in the environment, whether the model can percept there is an object. In this section, we are going to evaluate the accuracy of detection, which means how many correct detections the model made in the experiment. We will evaluate from two aspects, in the below tables, we can see the accuracy in each detection."
   ]
  },
  {
   "cell_type": "code",
   "execution_count": 45,
   "outputs": [],
   "source": [
    "def accuracy_evl(cleaned_results, model_type):\n",
    "    # Create a new dataframe to store the processed result\n",
    "    new_df = create_new_df()\n",
    "    # iterate the detection results\n",
    "    for result in cleaned_results:\n",
    "        # Get the object name and robot position\n",
    "        obj = result.split('/')[-1].split('_')[0]\n",
    "        position = result.split('/')[-1].split('_')[1] + '_' + result.split('/')[-1].split('_')[-1].replace('.csv', '')\n",
    "\n",
    "        # Open the detection result\n",
    "        df = pd.read_csv(result, index_col='Unnamed: 0')\n",
    "        # num of results\n",
    "        num_det = df.shape[0]\n",
    "        # calculate how many correct detection\n",
    "        detections = df['category'].value_counts()\n",
    "        if obj not in detections.index:\n",
    "            new_df.at[position, obj] = 0.0\n",
    "            continue\n",
    "        correct_rate = detections[obj] / num_det\n",
    "        new_df.at[position, obj] = correct_rate\n",
    "    new_df.loc['avg_acc'] = new_df.sum() / 8\n",
    "    new_df.to_csv(os.path.join('./process_result', model_type + \"_detection_accuracy.csv\"))"
   ],
   "metadata": {
    "collapsed": false,
    "pycharm": {
     "name": "#%%\n"
    }
   }
  },
  {
   "cell_type": "code",
   "execution_count": 46,
   "outputs": [],
   "source": [
    "clean_ssd_results = get_file_names('./cleaned_data/ssd')\n",
    "clean_yolov3_results = get_file_names('./cleaned_data/yolov3')\n",
    "\n",
    "accuracy_evl(clean_ssd_results, 'ssd')\n",
    "accuracy_evl(clean_yolov3_results, 'yolov3')\n",
    "\n",
    "ssd_acc_df = pd.read_csv('./process_result/ssd_detection_accuracy.csv', index_col=['Unnamed: 0'])\n",
    "yolov3_acc_df = pd.read_csv('./process_result/yolov3_detection_accuracy.csv', index_col=['Unnamed: 0'])"
   ],
   "metadata": {
    "collapsed": false,
    "pycharm": {
     "name": "#%%\n"
    }
   }
  },
  {
   "cell_type": "code",
   "execution_count": 47,
   "outputs": [
    {
     "data": {
      "text/plain": "              car       bus    person     chair  suitcase  monitor\nm6_0     0.537162  0.418605  1.000000  0.000000  0.000000      0.0\nm4_0     0.005988  0.568116  0.996241  1.000000  0.000000      0.0\n4_0      0.401384  0.377581  1.000000  0.769231  0.029412      0.0\n6_0      0.032864  0.548387  0.992908  0.000000  0.000000      0.0\n0_6      0.009615  0.000000  1.000000  0.000000  0.000000      0.0\n0_4      0.049180  0.000000  0.989091  0.000000  0.000000      0.0\n0_m4     0.000000  0.000000  0.971429  0.000000  0.500000      0.0\n0_m6     0.004545  0.000000  1.000000  0.000000  0.000000      0.0\navg_acc  0.130092  0.239086  0.993708  0.221154  0.066176      0.0",
      "text/html": "<div>\n<style scoped>\n    .dataframe tbody tr th:only-of-type {\n        vertical-align: middle;\n    }\n\n    .dataframe tbody tr th {\n        vertical-align: top;\n    }\n\n    .dataframe thead th {\n        text-align: right;\n    }\n</style>\n<table border=\"1\" class=\"dataframe\">\n  <thead>\n    <tr style=\"text-align: right;\">\n      <th></th>\n      <th>car</th>\n      <th>bus</th>\n      <th>person</th>\n      <th>chair</th>\n      <th>suitcase</th>\n      <th>monitor</th>\n    </tr>\n  </thead>\n  <tbody>\n    <tr>\n      <th>m6_0</th>\n      <td>0.537162</td>\n      <td>0.418605</td>\n      <td>1.000000</td>\n      <td>0.000000</td>\n      <td>0.000000</td>\n      <td>0.0</td>\n    </tr>\n    <tr>\n      <th>m4_0</th>\n      <td>0.005988</td>\n      <td>0.568116</td>\n      <td>0.996241</td>\n      <td>1.000000</td>\n      <td>0.000000</td>\n      <td>0.0</td>\n    </tr>\n    <tr>\n      <th>4_0</th>\n      <td>0.401384</td>\n      <td>0.377581</td>\n      <td>1.000000</td>\n      <td>0.769231</td>\n      <td>0.029412</td>\n      <td>0.0</td>\n    </tr>\n    <tr>\n      <th>6_0</th>\n      <td>0.032864</td>\n      <td>0.548387</td>\n      <td>0.992908</td>\n      <td>0.000000</td>\n      <td>0.000000</td>\n      <td>0.0</td>\n    </tr>\n    <tr>\n      <th>0_6</th>\n      <td>0.009615</td>\n      <td>0.000000</td>\n      <td>1.000000</td>\n      <td>0.000000</td>\n      <td>0.000000</td>\n      <td>0.0</td>\n    </tr>\n    <tr>\n      <th>0_4</th>\n      <td>0.049180</td>\n      <td>0.000000</td>\n      <td>0.989091</td>\n      <td>0.000000</td>\n      <td>0.000000</td>\n      <td>0.0</td>\n    </tr>\n    <tr>\n      <th>0_m4</th>\n      <td>0.000000</td>\n      <td>0.000000</td>\n      <td>0.971429</td>\n      <td>0.000000</td>\n      <td>0.500000</td>\n      <td>0.0</td>\n    </tr>\n    <tr>\n      <th>0_m6</th>\n      <td>0.004545</td>\n      <td>0.000000</td>\n      <td>1.000000</td>\n      <td>0.000000</td>\n      <td>0.000000</td>\n      <td>0.0</td>\n    </tr>\n    <tr>\n      <th>avg_acc</th>\n      <td>0.130092</td>\n      <td>0.239086</td>\n      <td>0.993708</td>\n      <td>0.221154</td>\n      <td>0.066176</td>\n      <td>0.0</td>\n    </tr>\n  </tbody>\n</table>\n</div>"
     },
     "execution_count": 47,
     "metadata": {},
     "output_type": "execute_result"
    }
   ],
   "source": [
    "ssd_acc_df"
   ],
   "metadata": {
    "collapsed": false,
    "pycharm": {
     "name": "#%%\n"
    }
   }
  },
  {
   "cell_type": "code",
   "execution_count": 48,
   "outputs": [
    {
     "data": {
      "text/plain": "              car       bus  person     chair  suitcase  monitor\nm6_0     0.987097  0.868687     1.0  0.800000       1.0      0.0\nm4_0     1.000000  0.892655     1.0  0.983871       0.0      0.0\n4_0      1.000000  0.649215     1.0  0.891667       0.0      0.0\n6_0      1.000000  0.472973     1.0  0.990991       0.0      0.0\n0_6      1.000000  0.000000     1.0  0.976744       1.0      0.0\n0_4      0.680000  0.000000     1.0  0.824742       0.0      0.0\n0_m4     1.000000  0.000000     1.0  0.921348       1.0      0.0\n0_m6     1.000000  0.000000     1.0  1.000000       1.0      0.0\navg_acc  0.958387  0.360441     1.0  0.923670       0.5      0.0",
      "text/html": "<div>\n<style scoped>\n    .dataframe tbody tr th:only-of-type {\n        vertical-align: middle;\n    }\n\n    .dataframe tbody tr th {\n        vertical-align: top;\n    }\n\n    .dataframe thead th {\n        text-align: right;\n    }\n</style>\n<table border=\"1\" class=\"dataframe\">\n  <thead>\n    <tr style=\"text-align: right;\">\n      <th></th>\n      <th>car</th>\n      <th>bus</th>\n      <th>person</th>\n      <th>chair</th>\n      <th>suitcase</th>\n      <th>monitor</th>\n    </tr>\n  </thead>\n  <tbody>\n    <tr>\n      <th>m6_0</th>\n      <td>0.987097</td>\n      <td>0.868687</td>\n      <td>1.0</td>\n      <td>0.800000</td>\n      <td>1.0</td>\n      <td>0.0</td>\n    </tr>\n    <tr>\n      <th>m4_0</th>\n      <td>1.000000</td>\n      <td>0.892655</td>\n      <td>1.0</td>\n      <td>0.983871</td>\n      <td>0.0</td>\n      <td>0.0</td>\n    </tr>\n    <tr>\n      <th>4_0</th>\n      <td>1.000000</td>\n      <td>0.649215</td>\n      <td>1.0</td>\n      <td>0.891667</td>\n      <td>0.0</td>\n      <td>0.0</td>\n    </tr>\n    <tr>\n      <th>6_0</th>\n      <td>1.000000</td>\n      <td>0.472973</td>\n      <td>1.0</td>\n      <td>0.990991</td>\n      <td>0.0</td>\n      <td>0.0</td>\n    </tr>\n    <tr>\n      <th>0_6</th>\n      <td>1.000000</td>\n      <td>0.000000</td>\n      <td>1.0</td>\n      <td>0.976744</td>\n      <td>1.0</td>\n      <td>0.0</td>\n    </tr>\n    <tr>\n      <th>0_4</th>\n      <td>0.680000</td>\n      <td>0.000000</td>\n      <td>1.0</td>\n      <td>0.824742</td>\n      <td>0.0</td>\n      <td>0.0</td>\n    </tr>\n    <tr>\n      <th>0_m4</th>\n      <td>1.000000</td>\n      <td>0.000000</td>\n      <td>1.0</td>\n      <td>0.921348</td>\n      <td>1.0</td>\n      <td>0.0</td>\n    </tr>\n    <tr>\n      <th>0_m6</th>\n      <td>1.000000</td>\n      <td>0.000000</td>\n      <td>1.0</td>\n      <td>1.000000</td>\n      <td>1.0</td>\n      <td>0.0</td>\n    </tr>\n    <tr>\n      <th>avg_acc</th>\n      <td>0.958387</td>\n      <td>0.360441</td>\n      <td>1.0</td>\n      <td>0.923670</td>\n      <td>0.5</td>\n      <td>0.0</td>\n    </tr>\n  </tbody>\n</table>\n</div>"
     },
     "execution_count": 48,
     "metadata": {},
     "output_type": "execute_result"
    }
   ],
   "source": [
    "yolov3_acc_df"
   ],
   "metadata": {
    "collapsed": false,
    "pycharm": {
     "name": "#%%\n"
    }
   }
  },
  {
   "cell_type": "markdown",
   "source": [
    "From the tables we can tell the both model could not detect monitor very well. Both models have good accuracy for the detection on person. The yolov3 model has better performance than SSD as its average accuracy on other objects are higher than SSD. For further exploration, we will check the average confidence in each experiment."
   ],
   "metadata": {
    "collapsed": false,
    "pycharm": {
     "name": "#%% md\n"
    }
   }
  },
  {
   "cell_type": "code",
   "execution_count": 74,
   "outputs": [],
   "source": [
    "def confidence_evl(cleaned_results, model_type):\n",
    "    # Create a new dataframe to store the processed result\n",
    "    new_df = create_new_df()\n",
    "    # iterate the detection results\n",
    "    for result in cleaned_results:\n",
    "        # Get the object name and robot position\n",
    "        obj = result.split('/')[-1].split('_')[0]\n",
    "        position = result.split('/')[-1].split('_')[1] + '_' + result.split('/')[-1].split('_')[-1].replace('.csv', '')\n",
    "\n",
    "        # Open the detection result\n",
    "        df = pd.read_csv(result, index_col='Unnamed: 0')\n",
    "        # num of results\n",
    "        num_det = df.shape[0]\n",
    "        # calculate how many correct detection\n",
    "        detections = df['category'].value_counts()\n",
    "        if obj not in detections.index:\n",
    "            new_df.at[position, obj] = 0.0\n",
    "            continue\n",
    "        # correct_rate = detections[obj] / num_det\n",
    "        # new_df.at[position, obj] = correct_rate\n",
    "        confidences = []\n",
    "        for index, row in df.iterrows():\n",
    "            if row['category'] == obj:\n",
    "                confidences.append(row['score'])\n",
    "        avg_confidence = np.array(confidences).sum() / detections[obj]\n",
    "        new_df.at[position, obj] = avg_confidence\n",
    "        # new_df.loc['avg_confi'] = new_df.sum() / 8\n",
    "    # new_df.loc['avg_acc'] = new_df.sum() / 8\n",
    "    new_df.to_csv(os.path.join('./process_result', model_type + \"_confidence.csv\"))"
   ],
   "metadata": {
    "collapsed": false,
    "pycharm": {
     "name": "#%%\n"
    }
   }
  },
  {
   "cell_type": "code",
   "execution_count": 75,
   "outputs": [],
   "source": [
    "confidence_evl(clean_ssd_results, 'ssd')\n",
    "confidence_evl(clean_yolov3_results, 'yolov3')"
   ],
   "metadata": {
    "collapsed": false,
    "pycharm": {
     "name": "#%%\n"
    }
   }
  },
  {
   "cell_type": "code",
   "execution_count": 76,
   "outputs": [],
   "source": [
    "ssd_confi = pd.read_csv('./process_result/ssd_confidence.csv', index_col='Unnamed: 0')\n",
    "yolov3_confi = pd.read_csv('./process_result/yolov3_confidence.csv', index_col='Unnamed: 0')"
   ],
   "metadata": {
    "collapsed": false,
    "pycharm": {
     "name": "#%%\n"
    }
   }
  },
  {
   "cell_type": "code",
   "execution_count": 77,
   "outputs": [
    {
     "data": {
      "text/plain": "           car       bus    person     chair  suitcase  monitor\nm6_0  0.659119  0.549630  0.640077  0.000000     0.000      0.0\nm4_0  0.575000  0.570663  0.714340  0.544507     0.000      0.0\n4_0   0.647414  0.572734  0.693172  0.535000     0.500      0.0\n6_0   0.552857  0.590588  0.559643  0.000000     0.000      0.0\n0_6   0.540000  0.000000  0.552540  0.000000     0.000      0.0\n0_4   0.568889  0.000000  0.625221  0.000000     0.000      0.0\n0_m4  0.000000  0.000000  0.618162  0.000000     0.537      0.0\n0_m6  0.560000  0.000000  0.554519  0.000000     0.000      0.0",
      "text/html": "<div>\n<style scoped>\n    .dataframe tbody tr th:only-of-type {\n        vertical-align: middle;\n    }\n\n    .dataframe tbody tr th {\n        vertical-align: top;\n    }\n\n    .dataframe thead th {\n        text-align: right;\n    }\n</style>\n<table border=\"1\" class=\"dataframe\">\n  <thead>\n    <tr style=\"text-align: right;\">\n      <th></th>\n      <th>car</th>\n      <th>bus</th>\n      <th>person</th>\n      <th>chair</th>\n      <th>suitcase</th>\n      <th>monitor</th>\n    </tr>\n  </thead>\n  <tbody>\n    <tr>\n      <th>m6_0</th>\n      <td>0.659119</td>\n      <td>0.549630</td>\n      <td>0.640077</td>\n      <td>0.000000</td>\n      <td>0.000</td>\n      <td>0.0</td>\n    </tr>\n    <tr>\n      <th>m4_0</th>\n      <td>0.575000</td>\n      <td>0.570663</td>\n      <td>0.714340</td>\n      <td>0.544507</td>\n      <td>0.000</td>\n      <td>0.0</td>\n    </tr>\n    <tr>\n      <th>4_0</th>\n      <td>0.647414</td>\n      <td>0.572734</td>\n      <td>0.693172</td>\n      <td>0.535000</td>\n      <td>0.500</td>\n      <td>0.0</td>\n    </tr>\n    <tr>\n      <th>6_0</th>\n      <td>0.552857</td>\n      <td>0.590588</td>\n      <td>0.559643</td>\n      <td>0.000000</td>\n      <td>0.000</td>\n      <td>0.0</td>\n    </tr>\n    <tr>\n      <th>0_6</th>\n      <td>0.540000</td>\n      <td>0.000000</td>\n      <td>0.552540</td>\n      <td>0.000000</td>\n      <td>0.000</td>\n      <td>0.0</td>\n    </tr>\n    <tr>\n      <th>0_4</th>\n      <td>0.568889</td>\n      <td>0.000000</td>\n      <td>0.625221</td>\n      <td>0.000000</td>\n      <td>0.000</td>\n      <td>0.0</td>\n    </tr>\n    <tr>\n      <th>0_m4</th>\n      <td>0.000000</td>\n      <td>0.000000</td>\n      <td>0.618162</td>\n      <td>0.000000</td>\n      <td>0.537</td>\n      <td>0.0</td>\n    </tr>\n    <tr>\n      <th>0_m6</th>\n      <td>0.560000</td>\n      <td>0.000000</td>\n      <td>0.554519</td>\n      <td>0.000000</td>\n      <td>0.000</td>\n      <td>0.0</td>\n    </tr>\n  </tbody>\n</table>\n</div>"
     },
     "execution_count": 77,
     "metadata": {},
     "output_type": "execute_result"
    }
   ],
   "source": [
    "ssd_confi"
   ],
   "metadata": {
    "collapsed": false,
    "pycharm": {
     "name": "#%%\n"
    }
   }
  },
  {
   "cell_type": "code",
   "execution_count": 78,
   "outputs": [
    {
     "data": {
      "text/plain": "           car       bus    person     chair  suitcase  monitor\nm6_0  0.902288  0.784651  0.951311  0.582500  0.649600      0.0\nm4_0  0.954194  0.933354  0.948934  0.711967  0.000000      0.0\n4_0   0.979711  0.877984  0.979224  0.944486  0.000000      0.0\n6_0   0.986115  0.756000  0.991917  0.889182  0.000000      0.0\n0_6   0.929077  0.000000  0.994538  0.919524  0.637500      0.0\n0_4   0.825441  0.000000  0.970887  0.806000  0.000000      0.0\n0_m4  0.928106  0.000000  0.988629  0.703049  0.595909      0.0\n0_m6  0.947724  0.000000  0.995966  0.867619  0.652353      0.0",
      "text/html": "<div>\n<style scoped>\n    .dataframe tbody tr th:only-of-type {\n        vertical-align: middle;\n    }\n\n    .dataframe tbody tr th {\n        vertical-align: top;\n    }\n\n    .dataframe thead th {\n        text-align: right;\n    }\n</style>\n<table border=\"1\" class=\"dataframe\">\n  <thead>\n    <tr style=\"text-align: right;\">\n      <th></th>\n      <th>car</th>\n      <th>bus</th>\n      <th>person</th>\n      <th>chair</th>\n      <th>suitcase</th>\n      <th>monitor</th>\n    </tr>\n  </thead>\n  <tbody>\n    <tr>\n      <th>m6_0</th>\n      <td>0.902288</td>\n      <td>0.784651</td>\n      <td>0.951311</td>\n      <td>0.582500</td>\n      <td>0.649600</td>\n      <td>0.0</td>\n    </tr>\n    <tr>\n      <th>m4_0</th>\n      <td>0.954194</td>\n      <td>0.933354</td>\n      <td>0.948934</td>\n      <td>0.711967</td>\n      <td>0.000000</td>\n      <td>0.0</td>\n    </tr>\n    <tr>\n      <th>4_0</th>\n      <td>0.979711</td>\n      <td>0.877984</td>\n      <td>0.979224</td>\n      <td>0.944486</td>\n      <td>0.000000</td>\n      <td>0.0</td>\n    </tr>\n    <tr>\n      <th>6_0</th>\n      <td>0.986115</td>\n      <td>0.756000</td>\n      <td>0.991917</td>\n      <td>0.889182</td>\n      <td>0.000000</td>\n      <td>0.0</td>\n    </tr>\n    <tr>\n      <th>0_6</th>\n      <td>0.929077</td>\n      <td>0.000000</td>\n      <td>0.994538</td>\n      <td>0.919524</td>\n      <td>0.637500</td>\n      <td>0.0</td>\n    </tr>\n    <tr>\n      <th>0_4</th>\n      <td>0.825441</td>\n      <td>0.000000</td>\n      <td>0.970887</td>\n      <td>0.806000</td>\n      <td>0.000000</td>\n      <td>0.0</td>\n    </tr>\n    <tr>\n      <th>0_m4</th>\n      <td>0.928106</td>\n      <td>0.000000</td>\n      <td>0.988629</td>\n      <td>0.703049</td>\n      <td>0.595909</td>\n      <td>0.0</td>\n    </tr>\n    <tr>\n      <th>0_m6</th>\n      <td>0.947724</td>\n      <td>0.000000</td>\n      <td>0.995966</td>\n      <td>0.867619</td>\n      <td>0.652353</td>\n      <td>0.0</td>\n    </tr>\n  </tbody>\n</table>\n</div>"
     },
     "execution_count": 78,
     "metadata": {},
     "output_type": "execute_result"
    }
   ],
   "source": [
    "yolov3_confi"
   ],
   "metadata": {
    "collapsed": false,
    "pycharm": {
     "name": "#%%\n"
    }
   }
  }
 ],
 "metadata": {
  "kernelspec": {
   "display_name": "Python 3 (ipykernel)",
   "language": "python",
   "name": "python3"
  },
  "language_info": {
   "codemirror_mode": {
    "name": "ipython",
    "version": 3
   },
   "file_extension": ".py",
   "mimetype": "text/x-python",
   "name": "python",
   "nbconvert_exporter": "python",
   "pygments_lexer": "ipython3",
   "version": "3.8.10"
  }
 },
 "nbformat": 4,
 "nbformat_minor": 5
}